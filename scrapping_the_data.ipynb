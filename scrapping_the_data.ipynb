{
 "cells": [
  {
   "cell_type": "code",
   "execution_count": 1,
   "metadata": {},
   "outputs": [],
   "source": [
    "import pandas as pd\n",
    "import bs4\n",
    "import csv\n",
    "import os"
   ]
  },
  {
   "cell_type": "code",
   "execution_count": 2,
   "metadata": {},
   "outputs": [],
   "source": [
    "import requests"
   ]
  },
  {
   "cell_type": "code",
   "execution_count": 48,
   "metadata": {},
   "outputs": [],
   "source": [
    "pages=list(range(1,21))"
   ]
  },
  {
   "cell_type": "code",
   "execution_count": 49,
   "metadata": {},
   "outputs": [],
   "source": [
    "name_list = []\n",
    "rating_list = []\n",
    "review_title_list = []\n",
    "main_review_list = []\n",
    "for j in pages:\n",
    "    page=requests.get(\"https://www.amazon.in/Samsung-Galaxy-Storage-Additional-Exchange/product-reviews/B07KXCK8S6/ref=cm_cr_arp_d_paging_btm_next_2?ie=UTF8&reviewerType=all_reviews&pageNumber={}\".format(j))\n",
    "    content = bs4.BeautifulSoup(page.text,\"html.parser\")\n",
    "    find_data = content.find_all('div',class_='a-section celwidget')\n",
    "    for f in find_data:\n",
    "        name = f.find('span').get_text().replace('\\n','')\n",
    "        rating = f.find('i').get_text().replace('\\n','')\n",
    "        review_title = f.find('a',class_='review-title-content').get_text().replace('\\n','')\n",
    "        main_review = f.find(\"span\",{\"data-hook\":\"review-body\"}).get_text().replace('\\n','')\n",
    "        name_list.append(name)\n",
    "        rating_list.append(rating)\n",
    "        review_title_list.append(review_title)\n",
    "        main_review_list.append(main_review)\n",
    "        \n",
    "        \n",
    "       \n",
    "    "
   ]
  },
  {
   "cell_type": "code",
   "execution_count": 50,
   "metadata": {},
   "outputs": [],
   "source": [
    "df=pd.DataFrame({'Name': pd.Series(name_list),'Stars':pd.Series(rating_list),'Review Title':pd.Series(review_title_list),'Reviews':pd.Series(main_review_list)})"
   ]
  },
  {
   "cell_type": "code",
   "execution_count": 51,
   "metadata": {},
   "outputs": [
    {
     "data": {
      "text/html": [
       "<div>\n",
       "<style scoped>\n",
       "    .dataframe tbody tr th:only-of-type {\n",
       "        vertical-align: middle;\n",
       "    }\n",
       "\n",
       "    .dataframe tbody tr th {\n",
       "        vertical-align: top;\n",
       "    }\n",
       "\n",
       "    .dataframe thead th {\n",
       "        text-align: right;\n",
       "    }\n",
       "</style>\n",
       "<table border=\"1\" class=\"dataframe\">\n",
       "  <thead>\n",
       "    <tr style=\"text-align: right;\">\n",
       "      <th></th>\n",
       "      <th>Name</th>\n",
       "      <th>Stars</th>\n",
       "      <th>Review Title</th>\n",
       "      <th>Reviews</th>\n",
       "    </tr>\n",
       "  </thead>\n",
       "  <tbody>\n",
       "    <tr>\n",
       "      <th>0</th>\n",
       "      <td>Ashish Goyal</td>\n",
       "      <td>5.0 out of 5 stars</td>\n",
       "      <td>The No Nonsense Device.</td>\n",
       "      <td>Hi, this is going to be a long-detailed revi...</td>\n",
       "    </tr>\n",
       "    <tr>\n",
       "      <th>1</th>\n",
       "      <td>Zargham Haider</td>\n",
       "      <td>5.0 out of 5 stars</td>\n",
       "      <td>That display !!!</td>\n",
       "      <td>So happy to get my pre ordered S10. So far i...</td>\n",
       "    </tr>\n",
       "    <tr>\n",
       "      <th>2</th>\n",
       "      <td>Amazon Customer</td>\n",
       "      <td>5.0 out of 5 stars</td>\n",
       "      <td>Samsung sucks</td>\n",
       "      <td>Don't buy from Amazon. Samsung is not giving...</td>\n",
       "    </tr>\n",
       "    <tr>\n",
       "      <th>3</th>\n",
       "      <td>Ayush Sood</td>\n",
       "      <td>4.0 out of 5 stars</td>\n",
       "      <td>Great phone but...</td>\n",
       "      <td>The battery life is not very good. It's bad ...</td>\n",
       "    </tr>\n",
       "    <tr>\n",
       "      <th>4</th>\n",
       "      <td>Raj</td>\n",
       "      <td>1.0 out of 5 stars</td>\n",
       "      <td>Need full refund</td>\n",
       "      <td>Power adapter doesnt provide fast wireless c...</td>\n",
       "    </tr>\n",
       "    <tr>\n",
       "      <th>...</th>\n",
       "      <td>...</td>\n",
       "      <td>...</td>\n",
       "      <td>...</td>\n",
       "      <td>...</td>\n",
       "    </tr>\n",
       "    <tr>\n",
       "      <th>165</th>\n",
       "      <td>Amazon Customer</td>\n",
       "      <td>2.0 out of 5 stars</td>\n",
       "      <td>Worse Battery life,</td>\n",
       "      <td>Fingerprint reader takes time, camera qualty...</td>\n",
       "    </tr>\n",
       "    <tr>\n",
       "      <th>166</th>\n",
       "      <td>Jade</td>\n",
       "      <td>5.0 out of 5 stars</td>\n",
       "      <td>Great value for money!</td>\n",
       "      <td>Superb display and camera. Beats any phone o...</td>\n",
       "    </tr>\n",
       "    <tr>\n",
       "      <th>167</th>\n",
       "      <td>Mahendar Kumar</td>\n",
       "      <td>3.0 out of 5 stars</td>\n",
       "      <td>Really bad camera quality</td>\n",
       "      <td>The picture quality of images clicked from r...</td>\n",
       "    </tr>\n",
       "    <tr>\n",
       "      <th>168</th>\n",
       "      <td>Nidhin</td>\n",
       "      <td>5.0 out of 5 stars</td>\n",
       "      <td>Simply perfect for me</td>\n",
       "      <td>Product is very good. Camera is awesome. Bat...</td>\n",
       "    </tr>\n",
       "    <tr>\n",
       "      <th>169</th>\n",
       "      <td>ankur s.</td>\n",
       "      <td>5.0 out of 5 stars</td>\n",
       "      <td>Good</td>\n",
       "      <td>Overall its a good purchase</td>\n",
       "    </tr>\n",
       "  </tbody>\n",
       "</table>\n",
       "<p>170 rows × 4 columns</p>\n",
       "</div>"
      ],
      "text/plain": [
       "                Name               Stars               Review Title  \\\n",
       "0       Ashish Goyal  5.0 out of 5 stars    The No Nonsense Device.   \n",
       "1     Zargham Haider  5.0 out of 5 stars           That display !!!   \n",
       "2    Amazon Customer  5.0 out of 5 stars              Samsung sucks   \n",
       "3         Ayush Sood  4.0 out of 5 stars         Great phone but...   \n",
       "4                Raj  1.0 out of 5 stars           Need full refund   \n",
       "..               ...                 ...                        ...   \n",
       "165  Amazon Customer  2.0 out of 5 stars        Worse Battery life,   \n",
       "166             Jade  5.0 out of 5 stars     Great value for money!   \n",
       "167   Mahendar Kumar  3.0 out of 5 stars  Really bad camera quality   \n",
       "168           Nidhin  5.0 out of 5 stars      Simply perfect for me   \n",
       "169         ankur s.  5.0 out of 5 stars                       Good   \n",
       "\n",
       "                                               Reviews  \n",
       "0      Hi, this is going to be a long-detailed revi...  \n",
       "1      So happy to get my pre ordered S10. So far i...  \n",
       "2      Don't buy from Amazon. Samsung is not giving...  \n",
       "3      The battery life is not very good. It's bad ...  \n",
       "4      Power adapter doesnt provide fast wireless c...  \n",
       "..                                                 ...  \n",
       "165    Fingerprint reader takes time, camera qualty...  \n",
       "166    Superb display and camera. Beats any phone o...  \n",
       "167    The picture quality of images clicked from r...  \n",
       "168    Product is very good. Camera is awesome. Bat...  \n",
       "169                        Overall its a good purchase  \n",
       "\n",
       "[170 rows x 4 columns]"
      ]
     },
     "execution_count": 51,
     "metadata": {},
     "output_type": "execute_result"
    }
   ],
   "source": [
    "df"
   ]
  },
  {
   "cell_type": "code",
   "execution_count": 52,
   "metadata": {},
   "outputs": [],
   "source": [
    "df.to_csv(r'samsung_s10.csv')"
   ]
  }
 ],
 "metadata": {
  "kernelspec": {
   "display_name": "Python 3",
   "language": "python",
   "name": "python3"
  },
  "language_info": {
   "codemirror_mode": {
    "name": "ipython",
    "version": 3
   },
   "file_extension": ".py",
   "mimetype": "text/x-python",
   "name": "python",
   "nbconvert_exporter": "python",
   "pygments_lexer": "ipython3",
   "version": "3.8.3"
  }
 },
 "nbformat": 4,
 "nbformat_minor": 4
}
